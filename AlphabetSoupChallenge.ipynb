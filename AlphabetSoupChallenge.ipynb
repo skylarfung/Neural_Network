{
 "cells": [
  {
   "cell_type": "code",
   "execution_count": 1,
   "metadata": {},
   "outputs": [
    {
     "name": "stderr",
     "output_type": "stream",
     "text": [
      "C:\\Users\\skyla\\Anaconda3\\envs\\mlenv\\lib\\site-packages\\tensorflow\\python\\framework\\dtypes.py:516: FutureWarning: Passing (type, 1) or '1type' as a synonym of type is deprecated; in a future version of numpy, it will be understood as (type, (1,)) / '(1,)type'.\n",
      "  _np_qint8 = np.dtype([(\"qint8\", np.int8, 1)])\n",
      "C:\\Users\\skyla\\Anaconda3\\envs\\mlenv\\lib\\site-packages\\tensorflow\\python\\framework\\dtypes.py:517: FutureWarning: Passing (type, 1) or '1type' as a synonym of type is deprecated; in a future version of numpy, it will be understood as (type, (1,)) / '(1,)type'.\n",
      "  _np_quint8 = np.dtype([(\"quint8\", np.uint8, 1)])\n",
      "C:\\Users\\skyla\\Anaconda3\\envs\\mlenv\\lib\\site-packages\\tensorflow\\python\\framework\\dtypes.py:518: FutureWarning: Passing (type, 1) or '1type' as a synonym of type is deprecated; in a future version of numpy, it will be understood as (type, (1,)) / '(1,)type'.\n",
      "  _np_qint16 = np.dtype([(\"qint16\", np.int16, 1)])\n",
      "C:\\Users\\skyla\\Anaconda3\\envs\\mlenv\\lib\\site-packages\\tensorflow\\python\\framework\\dtypes.py:519: FutureWarning: Passing (type, 1) or '1type' as a synonym of type is deprecated; in a future version of numpy, it will be understood as (type, (1,)) / '(1,)type'.\n",
      "  _np_quint16 = np.dtype([(\"quint16\", np.uint16, 1)])\n",
      "C:\\Users\\skyla\\Anaconda3\\envs\\mlenv\\lib\\site-packages\\tensorflow\\python\\framework\\dtypes.py:520: FutureWarning: Passing (type, 1) or '1type' as a synonym of type is deprecated; in a future version of numpy, it will be understood as (type, (1,)) / '(1,)type'.\n",
      "  _np_qint32 = np.dtype([(\"qint32\", np.int32, 1)])\n",
      "C:\\Users\\skyla\\Anaconda3\\envs\\mlenv\\lib\\site-packages\\tensorflow\\python\\framework\\dtypes.py:525: FutureWarning: Passing (type, 1) or '1type' as a synonym of type is deprecated; in a future version of numpy, it will be understood as (type, (1,)) / '(1,)type'.\n",
      "  np_resource = np.dtype([(\"resource\", np.ubyte, 1)])\n",
      "C:\\Users\\skyla\\Anaconda3\\envs\\mlenv\\lib\\site-packages\\tensorboard\\compat\\tensorflow_stub\\dtypes.py:541: FutureWarning: Passing (type, 1) or '1type' as a synonym of type is deprecated; in a future version of numpy, it will be understood as (type, (1,)) / '(1,)type'.\n",
      "  _np_qint8 = np.dtype([(\"qint8\", np.int8, 1)])\n",
      "C:\\Users\\skyla\\Anaconda3\\envs\\mlenv\\lib\\site-packages\\tensorboard\\compat\\tensorflow_stub\\dtypes.py:542: FutureWarning: Passing (type, 1) or '1type' as a synonym of type is deprecated; in a future version of numpy, it will be understood as (type, (1,)) / '(1,)type'.\n",
      "  _np_quint8 = np.dtype([(\"quint8\", np.uint8, 1)])\n",
      "C:\\Users\\skyla\\Anaconda3\\envs\\mlenv\\lib\\site-packages\\tensorboard\\compat\\tensorflow_stub\\dtypes.py:543: FutureWarning: Passing (type, 1) or '1type' as a synonym of type is deprecated; in a future version of numpy, it will be understood as (type, (1,)) / '(1,)type'.\n",
      "  _np_qint16 = np.dtype([(\"qint16\", np.int16, 1)])\n",
      "C:\\Users\\skyla\\Anaconda3\\envs\\mlenv\\lib\\site-packages\\tensorboard\\compat\\tensorflow_stub\\dtypes.py:544: FutureWarning: Passing (type, 1) or '1type' as a synonym of type is deprecated; in a future version of numpy, it will be understood as (type, (1,)) / '(1,)type'.\n",
      "  _np_quint16 = np.dtype([(\"quint16\", np.uint16, 1)])\n",
      "C:\\Users\\skyla\\Anaconda3\\envs\\mlenv\\lib\\site-packages\\tensorboard\\compat\\tensorflow_stub\\dtypes.py:545: FutureWarning: Passing (type, 1) or '1type' as a synonym of type is deprecated; in a future version of numpy, it will be understood as (type, (1,)) / '(1,)type'.\n",
      "  _np_qint32 = np.dtype([(\"qint32\", np.int32, 1)])\n",
      "C:\\Users\\skyla\\Anaconda3\\envs\\mlenv\\lib\\site-packages\\tensorboard\\compat\\tensorflow_stub\\dtypes.py:550: FutureWarning: Passing (type, 1) or '1type' as a synonym of type is deprecated; in a future version of numpy, it will be understood as (type, (1,)) / '(1,)type'.\n",
      "  np_resource = np.dtype([(\"resource\", np.ubyte, 1)])\n"
     ]
    }
   ],
   "source": [
    "#Dependencies\n",
    "import pandas as pd\n",
    "import tensorflow as tf\n",
    "from sklearn.preprocessing import StandardScaler, OneHotEncoder \n",
    "from sklearn.model_selection import train_test_split\n",
    "from sklearn.preprocessing import LabelEncoder"
   ]
  },
  {
   "cell_type": "code",
   "execution_count": 2,
   "metadata": {},
   "outputs": [
    {
     "data": {
      "text/html": [
       "<div>\n",
       "<style scoped>\n",
       "    .dataframe tbody tr th:only-of-type {\n",
       "        vertical-align: middle;\n",
       "    }\n",
       "\n",
       "    .dataframe tbody tr th {\n",
       "        vertical-align: top;\n",
       "    }\n",
       "\n",
       "    .dataframe thead th {\n",
       "        text-align: right;\n",
       "    }\n",
       "</style>\n",
       "<table border=\"1\" class=\"dataframe\">\n",
       "  <thead>\n",
       "    <tr style=\"text-align: right;\">\n",
       "      <th></th>\n",
       "      <th>EIN</th>\n",
       "      <th>NAME</th>\n",
       "      <th>APPLICATION_TYPE</th>\n",
       "      <th>AFFILIATION</th>\n",
       "      <th>CLASSIFICATION</th>\n",
       "      <th>USE_CASE</th>\n",
       "      <th>ORGANIZATION</th>\n",
       "      <th>STATUS</th>\n",
       "      <th>INCOME_AMT</th>\n",
       "      <th>SPECIAL_CONSIDERATIONS</th>\n",
       "      <th>ASK_AMT</th>\n",
       "      <th>IS_SUCCESSFUL</th>\n",
       "    </tr>\n",
       "  </thead>\n",
       "  <tbody>\n",
       "    <tr>\n",
       "      <th>0</th>\n",
       "      <td>10520599</td>\n",
       "      <td>BLUE KNIGHTS MOTORCYCLE CLUB</td>\n",
       "      <td>T10</td>\n",
       "      <td>Independent</td>\n",
       "      <td>C1000</td>\n",
       "      <td>ProductDev</td>\n",
       "      <td>Association</td>\n",
       "      <td>1</td>\n",
       "      <td>0</td>\n",
       "      <td>N</td>\n",
       "      <td>5000</td>\n",
       "      <td>1</td>\n",
       "    </tr>\n",
       "    <tr>\n",
       "      <th>1</th>\n",
       "      <td>10531628</td>\n",
       "      <td>AMERICAN CHESAPEAKE CLUB CHARITABLE TR</td>\n",
       "      <td>T3</td>\n",
       "      <td>Independent</td>\n",
       "      <td>C2000</td>\n",
       "      <td>Preservation</td>\n",
       "      <td>Co-operative</td>\n",
       "      <td>1</td>\n",
       "      <td>1-9999</td>\n",
       "      <td>N</td>\n",
       "      <td>108590</td>\n",
       "      <td>1</td>\n",
       "    </tr>\n",
       "    <tr>\n",
       "      <th>2</th>\n",
       "      <td>10547893</td>\n",
       "      <td>ST CLOUD PROFESSIONAL FIREFIGHTERS</td>\n",
       "      <td>T5</td>\n",
       "      <td>CompanySponsored</td>\n",
       "      <td>C3000</td>\n",
       "      <td>ProductDev</td>\n",
       "      <td>Association</td>\n",
       "      <td>1</td>\n",
       "      <td>0</td>\n",
       "      <td>N</td>\n",
       "      <td>5000</td>\n",
       "      <td>0</td>\n",
       "    </tr>\n",
       "    <tr>\n",
       "      <th>3</th>\n",
       "      <td>10553066</td>\n",
       "      <td>SOUTHSIDE ATHLETIC ASSOCIATION</td>\n",
       "      <td>T3</td>\n",
       "      <td>CompanySponsored</td>\n",
       "      <td>C2000</td>\n",
       "      <td>Preservation</td>\n",
       "      <td>Trust</td>\n",
       "      <td>1</td>\n",
       "      <td>10000-24999</td>\n",
       "      <td>N</td>\n",
       "      <td>6692</td>\n",
       "      <td>1</td>\n",
       "    </tr>\n",
       "    <tr>\n",
       "      <th>4</th>\n",
       "      <td>10556103</td>\n",
       "      <td>GENETIC RESEARCH INSTITUTE OF THE DESERT</td>\n",
       "      <td>T3</td>\n",
       "      <td>Independent</td>\n",
       "      <td>C1000</td>\n",
       "      <td>Heathcare</td>\n",
       "      <td>Trust</td>\n",
       "      <td>1</td>\n",
       "      <td>100000-499999</td>\n",
       "      <td>N</td>\n",
       "      <td>142590</td>\n",
       "      <td>1</td>\n",
       "    </tr>\n",
       "  </tbody>\n",
       "</table>\n",
       "</div>"
      ],
      "text/plain": [
       "        EIN                                      NAME APPLICATION_TYPE  \\\n",
       "0  10520599              BLUE KNIGHTS MOTORCYCLE CLUB              T10   \n",
       "1  10531628    AMERICAN CHESAPEAKE CLUB CHARITABLE TR               T3   \n",
       "2  10547893        ST CLOUD PROFESSIONAL FIREFIGHTERS               T5   \n",
       "3  10553066            SOUTHSIDE ATHLETIC ASSOCIATION               T3   \n",
       "4  10556103  GENETIC RESEARCH INSTITUTE OF THE DESERT               T3   \n",
       "\n",
       "        AFFILIATION CLASSIFICATION      USE_CASE  ORGANIZATION  STATUS  \\\n",
       "0       Independent          C1000    ProductDev   Association       1   \n",
       "1       Independent          C2000  Preservation  Co-operative       1   \n",
       "2  CompanySponsored          C3000    ProductDev   Association       1   \n",
       "3  CompanySponsored          C2000  Preservation         Trust       1   \n",
       "4       Independent          C1000     Heathcare         Trust       1   \n",
       "\n",
       "      INCOME_AMT SPECIAL_CONSIDERATIONS  ASK_AMT  IS_SUCCESSFUL  \n",
       "0              0                      N     5000              1  \n",
       "1         1-9999                      N   108590              1  \n",
       "2              0                      N     5000              0  \n",
       "3    10000-24999                      N     6692              1  \n",
       "4  100000-499999                      N   142590              1  "
      ]
     },
     "execution_count": 2,
     "metadata": {},
     "output_type": "execute_result"
    }
   ],
   "source": [
    "#Read CSV file\n",
    "df = pd.read_csv(\"charity_data.csv\")\n",
    "df.head()"
   ]
  },
  {
   "cell_type": "code",
   "execution_count": 3,
   "metadata": {},
   "outputs": [
    {
     "data": {
      "text/html": [
       "<div>\n",
       "<style scoped>\n",
       "    .dataframe tbody tr th:only-of-type {\n",
       "        vertical-align: middle;\n",
       "    }\n",
       "\n",
       "    .dataframe tbody tr th {\n",
       "        vertical-align: top;\n",
       "    }\n",
       "\n",
       "    .dataframe thead th {\n",
       "        text-align: right;\n",
       "    }\n",
       "</style>\n",
       "<table border=\"1\" class=\"dataframe\">\n",
       "  <thead>\n",
       "    <tr style=\"text-align: right;\">\n",
       "      <th></th>\n",
       "      <th>NAME</th>\n",
       "      <th>APPLICATION_TYPE</th>\n",
       "      <th>AFFILIATION</th>\n",
       "      <th>CLASSIFICATION</th>\n",
       "      <th>USE_CASE</th>\n",
       "      <th>ORGANIZATION</th>\n",
       "      <th>STATUS</th>\n",
       "      <th>INCOME_AMT</th>\n",
       "      <th>SPECIAL_CONSIDERATIONS</th>\n",
       "      <th>ASK_AMT</th>\n",
       "      <th>IS_SUCCESSFUL</th>\n",
       "    </tr>\n",
       "    <tr>\n",
       "      <th>EIN</th>\n",
       "      <th></th>\n",
       "      <th></th>\n",
       "      <th></th>\n",
       "      <th></th>\n",
       "      <th></th>\n",
       "      <th></th>\n",
       "      <th></th>\n",
       "      <th></th>\n",
       "      <th></th>\n",
       "      <th></th>\n",
       "      <th></th>\n",
       "    </tr>\n",
       "  </thead>\n",
       "  <tbody>\n",
       "    <tr>\n",
       "      <th>10520599</th>\n",
       "      <td>BLUE KNIGHTS MOTORCYCLE CLUB</td>\n",
       "      <td>T10</td>\n",
       "      <td>Independent</td>\n",
       "      <td>C1000</td>\n",
       "      <td>ProductDev</td>\n",
       "      <td>Association</td>\n",
       "      <td>1</td>\n",
       "      <td>0</td>\n",
       "      <td>N</td>\n",
       "      <td>5000</td>\n",
       "      <td>1</td>\n",
       "    </tr>\n",
       "    <tr>\n",
       "      <th>10531628</th>\n",
       "      <td>AMERICAN CHESAPEAKE CLUB CHARITABLE TR</td>\n",
       "      <td>T3</td>\n",
       "      <td>Independent</td>\n",
       "      <td>C2000</td>\n",
       "      <td>Preservation</td>\n",
       "      <td>Co-operative</td>\n",
       "      <td>1</td>\n",
       "      <td>1-9999</td>\n",
       "      <td>N</td>\n",
       "      <td>108590</td>\n",
       "      <td>1</td>\n",
       "    </tr>\n",
       "    <tr>\n",
       "      <th>10547893</th>\n",
       "      <td>ST CLOUD PROFESSIONAL FIREFIGHTERS</td>\n",
       "      <td>T5</td>\n",
       "      <td>CompanySponsored</td>\n",
       "      <td>C3000</td>\n",
       "      <td>ProductDev</td>\n",
       "      <td>Association</td>\n",
       "      <td>1</td>\n",
       "      <td>0</td>\n",
       "      <td>N</td>\n",
       "      <td>5000</td>\n",
       "      <td>0</td>\n",
       "    </tr>\n",
       "    <tr>\n",
       "      <th>10553066</th>\n",
       "      <td>SOUTHSIDE ATHLETIC ASSOCIATION</td>\n",
       "      <td>T3</td>\n",
       "      <td>CompanySponsored</td>\n",
       "      <td>C2000</td>\n",
       "      <td>Preservation</td>\n",
       "      <td>Trust</td>\n",
       "      <td>1</td>\n",
       "      <td>10000-24999</td>\n",
       "      <td>N</td>\n",
       "      <td>6692</td>\n",
       "      <td>1</td>\n",
       "    </tr>\n",
       "    <tr>\n",
       "      <th>10556103</th>\n",
       "      <td>GENETIC RESEARCH INSTITUTE OF THE DESERT</td>\n",
       "      <td>T3</td>\n",
       "      <td>Independent</td>\n",
       "      <td>C1000</td>\n",
       "      <td>Heathcare</td>\n",
       "      <td>Trust</td>\n",
       "      <td>1</td>\n",
       "      <td>100000-499999</td>\n",
       "      <td>N</td>\n",
       "      <td>142590</td>\n",
       "      <td>1</td>\n",
       "    </tr>\n",
       "  </tbody>\n",
       "</table>\n",
       "</div>"
      ],
      "text/plain": [
       "                                              NAME APPLICATION_TYPE  \\\n",
       "EIN                                                                   \n",
       "10520599              BLUE KNIGHTS MOTORCYCLE CLUB              T10   \n",
       "10531628    AMERICAN CHESAPEAKE CLUB CHARITABLE TR               T3   \n",
       "10547893        ST CLOUD PROFESSIONAL FIREFIGHTERS               T5   \n",
       "10553066            SOUTHSIDE ATHLETIC ASSOCIATION               T3   \n",
       "10556103  GENETIC RESEARCH INSTITUTE OF THE DESERT               T3   \n",
       "\n",
       "               AFFILIATION CLASSIFICATION      USE_CASE  ORGANIZATION  STATUS  \\\n",
       "EIN                                                                             \n",
       "10520599       Independent          C1000    ProductDev   Association       1   \n",
       "10531628       Independent          C2000  Preservation  Co-operative       1   \n",
       "10547893  CompanySponsored          C3000    ProductDev   Association       1   \n",
       "10553066  CompanySponsored          C2000  Preservation         Trust       1   \n",
       "10556103       Independent          C1000     Heathcare         Trust       1   \n",
       "\n",
       "             INCOME_AMT SPECIAL_CONSIDERATIONS  ASK_AMT  IS_SUCCESSFUL  \n",
       "EIN                                                                     \n",
       "10520599              0                      N     5000              1  \n",
       "10531628         1-9999                      N   108590              1  \n",
       "10547893              0                      N     5000              0  \n",
       "10553066    10000-24999                      N     6692              1  \n",
       "10556103  100000-499999                      N   142590              1  "
      ]
     },
     "execution_count": 3,
     "metadata": {},
     "output_type": "execute_result"
    }
   ],
   "source": [
    "#Set EIN as index\n",
    "df.set_index(\"EIN\", inplace = True)\n",
    "df.head()"
   ]
  },
  {
   "cell_type": "code",
   "execution_count": 4,
   "metadata": {},
   "outputs": [
    {
     "data": {
      "text/html": [
       "<div>\n",
       "<style scoped>\n",
       "    .dataframe tbody tr th:only-of-type {\n",
       "        vertical-align: middle;\n",
       "    }\n",
       "\n",
       "    .dataframe tbody tr th {\n",
       "        vertical-align: top;\n",
       "    }\n",
       "\n",
       "    .dataframe thead th {\n",
       "        text-align: right;\n",
       "    }\n",
       "</style>\n",
       "<table border=\"1\" class=\"dataframe\">\n",
       "  <thead>\n",
       "    <tr style=\"text-align: right;\">\n",
       "      <th></th>\n",
       "      <th>APPLICATION_TYPE</th>\n",
       "      <th>AFFILIATION</th>\n",
       "      <th>CLASSIFICATION</th>\n",
       "      <th>USE_CASE</th>\n",
       "      <th>ORGANIZATION</th>\n",
       "      <th>STATUS</th>\n",
       "      <th>INCOME_AMT</th>\n",
       "      <th>SPECIAL_CONSIDERATIONS</th>\n",
       "      <th>ASK_AMT</th>\n",
       "      <th>IS_SUCCESSFUL</th>\n",
       "    </tr>\n",
       "    <tr>\n",
       "      <th>EIN</th>\n",
       "      <th></th>\n",
       "      <th></th>\n",
       "      <th></th>\n",
       "      <th></th>\n",
       "      <th></th>\n",
       "      <th></th>\n",
       "      <th></th>\n",
       "      <th></th>\n",
       "      <th></th>\n",
       "      <th></th>\n",
       "    </tr>\n",
       "  </thead>\n",
       "  <tbody>\n",
       "    <tr>\n",
       "      <th>10520599</th>\n",
       "      <td>T10</td>\n",
       "      <td>Independent</td>\n",
       "      <td>C1000</td>\n",
       "      <td>ProductDev</td>\n",
       "      <td>Association</td>\n",
       "      <td>1</td>\n",
       "      <td>0</td>\n",
       "      <td>N</td>\n",
       "      <td>5000</td>\n",
       "      <td>1</td>\n",
       "    </tr>\n",
       "    <tr>\n",
       "      <th>10531628</th>\n",
       "      <td>T3</td>\n",
       "      <td>Independent</td>\n",
       "      <td>C2000</td>\n",
       "      <td>Preservation</td>\n",
       "      <td>Co-operative</td>\n",
       "      <td>1</td>\n",
       "      <td>1-9999</td>\n",
       "      <td>N</td>\n",
       "      <td>108590</td>\n",
       "      <td>1</td>\n",
       "    </tr>\n",
       "    <tr>\n",
       "      <th>10547893</th>\n",
       "      <td>T5</td>\n",
       "      <td>CompanySponsored</td>\n",
       "      <td>C3000</td>\n",
       "      <td>ProductDev</td>\n",
       "      <td>Association</td>\n",
       "      <td>1</td>\n",
       "      <td>0</td>\n",
       "      <td>N</td>\n",
       "      <td>5000</td>\n",
       "      <td>0</td>\n",
       "    </tr>\n",
       "    <tr>\n",
       "      <th>10553066</th>\n",
       "      <td>T3</td>\n",
       "      <td>CompanySponsored</td>\n",
       "      <td>C2000</td>\n",
       "      <td>Preservation</td>\n",
       "      <td>Trust</td>\n",
       "      <td>1</td>\n",
       "      <td>10000-24999</td>\n",
       "      <td>N</td>\n",
       "      <td>6692</td>\n",
       "      <td>1</td>\n",
       "    </tr>\n",
       "    <tr>\n",
       "      <th>10556103</th>\n",
       "      <td>T3</td>\n",
       "      <td>Independent</td>\n",
       "      <td>C1000</td>\n",
       "      <td>Heathcare</td>\n",
       "      <td>Trust</td>\n",
       "      <td>1</td>\n",
       "      <td>100000-499999</td>\n",
       "      <td>N</td>\n",
       "      <td>142590</td>\n",
       "      <td>1</td>\n",
       "    </tr>\n",
       "    <tr>\n",
       "      <th>10556855</th>\n",
       "      <td>T3</td>\n",
       "      <td>Independent</td>\n",
       "      <td>C1200</td>\n",
       "      <td>Preservation</td>\n",
       "      <td>Trust</td>\n",
       "      <td>1</td>\n",
       "      <td>0</td>\n",
       "      <td>N</td>\n",
       "      <td>5000</td>\n",
       "      <td>1</td>\n",
       "    </tr>\n",
       "    <tr>\n",
       "      <th>10558440</th>\n",
       "      <td>T3</td>\n",
       "      <td>Independent</td>\n",
       "      <td>C1000</td>\n",
       "      <td>Preservation</td>\n",
       "      <td>Trust</td>\n",
       "      <td>1</td>\n",
       "      <td>100000-499999</td>\n",
       "      <td>N</td>\n",
       "      <td>31452</td>\n",
       "      <td>1</td>\n",
       "    </tr>\n",
       "    <tr>\n",
       "      <th>10566033</th>\n",
       "      <td>T3</td>\n",
       "      <td>Independent</td>\n",
       "      <td>C2000</td>\n",
       "      <td>Preservation</td>\n",
       "      <td>Trust</td>\n",
       "      <td>1</td>\n",
       "      <td>10M-50M</td>\n",
       "      <td>N</td>\n",
       "      <td>7508025</td>\n",
       "      <td>1</td>\n",
       "    </tr>\n",
       "    <tr>\n",
       "      <th>10570430</th>\n",
       "      <td>T7</td>\n",
       "      <td>Independent</td>\n",
       "      <td>C1000</td>\n",
       "      <td>ProductDev</td>\n",
       "      <td>Trust</td>\n",
       "      <td>1</td>\n",
       "      <td>1-9999</td>\n",
       "      <td>N</td>\n",
       "      <td>94389</td>\n",
       "      <td>1</td>\n",
       "    </tr>\n",
       "    <tr>\n",
       "      <th>10571689</th>\n",
       "      <td>T5</td>\n",
       "      <td>CompanySponsored</td>\n",
       "      <td>C3000</td>\n",
       "      <td>ProductDev</td>\n",
       "      <td>Association</td>\n",
       "      <td>1</td>\n",
       "      <td>0</td>\n",
       "      <td>N</td>\n",
       "      <td>5000</td>\n",
       "      <td>0</td>\n",
       "    </tr>\n",
       "  </tbody>\n",
       "</table>\n",
       "</div>"
      ],
      "text/plain": [
       "         APPLICATION_TYPE       AFFILIATION CLASSIFICATION      USE_CASE  \\\n",
       "EIN                                                                        \n",
       "10520599              T10       Independent          C1000    ProductDev   \n",
       "10531628               T3       Independent          C2000  Preservation   \n",
       "10547893               T5  CompanySponsored          C3000    ProductDev   \n",
       "10553066               T3  CompanySponsored          C2000  Preservation   \n",
       "10556103               T3       Independent          C1000     Heathcare   \n",
       "10556855               T3       Independent          C1200  Preservation   \n",
       "10558440               T3       Independent          C1000  Preservation   \n",
       "10566033               T3       Independent          C2000  Preservation   \n",
       "10570430               T7       Independent          C1000    ProductDev   \n",
       "10571689               T5  CompanySponsored          C3000    ProductDev   \n",
       "\n",
       "          ORGANIZATION  STATUS     INCOME_AMT SPECIAL_CONSIDERATIONS  ASK_AMT  \\\n",
       "EIN                                                                             \n",
       "10520599   Association       1              0                      N     5000   \n",
       "10531628  Co-operative       1         1-9999                      N   108590   \n",
       "10547893   Association       1              0                      N     5000   \n",
       "10553066         Trust       1    10000-24999                      N     6692   \n",
       "10556103         Trust       1  100000-499999                      N   142590   \n",
       "10556855         Trust       1              0                      N     5000   \n",
       "10558440         Trust       1  100000-499999                      N    31452   \n",
       "10566033         Trust       1        10M-50M                      N  7508025   \n",
       "10570430         Trust       1         1-9999                      N    94389   \n",
       "10571689   Association       1              0                      N     5000   \n",
       "\n",
       "          IS_SUCCESSFUL  \n",
       "EIN                      \n",
       "10520599              1  \n",
       "10531628              1  \n",
       "10547893              0  \n",
       "10553066              1  \n",
       "10556103              1  \n",
       "10556855              1  \n",
       "10558440              1  \n",
       "10566033              1  \n",
       "10570430              1  \n",
       "10571689              0  "
      ]
     },
     "execution_count": 4,
     "metadata": {},
     "output_type": "execute_result"
    }
   ],
   "source": [
    "#Create new df for names and drop NAME from df\n",
    "names_df = pd.DataFrame(data = df[\"NAME\"], columns = [\"NAME\"])\n",
    "df.drop(columns = \"NAME\", inplace = True)\n",
    "df.head(10)"
   ]
  },
  {
   "cell_type": "code",
   "execution_count": 5,
   "metadata": {},
   "outputs": [
    {
     "data": {
      "text/plain": [
       "N    34272\n",
       "Y       27\n",
       "Name: SPECIAL_CONSIDERATIONS, dtype: int64"
      ]
     },
     "execution_count": 5,
     "metadata": {},
     "output_type": "execute_result"
    }
   ],
   "source": [
    "df.SPECIAL_CONSIDERATIONS.value_counts()"
   ]
  },
  {
   "cell_type": "code",
   "execution_count": 6,
   "metadata": {},
   "outputs": [
    {
     "data": {
      "text/plain": [
       "0    34272\n",
       "1       27\n",
       "Name: SPECIAL_CONSIDERATIONS, dtype: int64"
      ]
     },
     "execution_count": 6,
     "metadata": {},
     "output_type": "execute_result"
    }
   ],
   "source": [
    "#Change SPECIAL_CONSIDERATIONS to Bool\n",
    "df.SPECIAL_CONSIDERATIONS = df.SPECIAL_CONSIDERATIONS.apply(lambda x: 0 if x == \"N\" else 1)\n",
    "df.SPECIAL_CONSIDERATIONS.value_counts()"
   ]
  },
  {
   "cell_type": "code",
   "execution_count": 7,
   "metadata": {},
   "outputs": [],
   "source": [
    "app_count = df.APPLICATION_TYPE.value_counts()\n",
    "affil_count = df.AFFILIATION.value_counts()\n",
    "class_count = df.CLASSIFICATION.value_counts()\n",
    "use_count = df.USE_CASE.value_counts()\n",
    "org_count = df.ORGANIZATION.value_counts()\n",
    "inc_count = df.INCOME_AMT.value_counts()"
   ]
  },
  {
   "cell_type": "code",
   "execution_count": 8,
   "metadata": {},
   "outputs": [
    {
     "data": {
      "text/plain": [
       "T3     27037\n",
       "T4      1542\n",
       "T6      1216\n",
       "T5      1173\n",
       "T19     1065\n",
       "T8       737\n",
       "T7       725\n",
       "T10      528\n",
       "T9       156\n",
       "T13       66\n",
       "T12       27\n",
       "T2        16\n",
       "T14        3\n",
       "T25        3\n",
       "T15        2\n",
       "T29        2\n",
       "T17        1\n",
       "Name: APPLICATION_TYPE, dtype: int64"
      ]
     },
     "execution_count": 8,
     "metadata": {},
     "output_type": "execute_result"
    },
    {
     "data": {
      "image/png": "[encoded data removed]",
      "text/plain": [
       "<Figure size 432x288 with 1 Axes>"
      ]
     },
     "metadata": {
      "needs_background": "light"
     },
     "output_type": "display_data"
    }
   ],
   "source": [
    "app_count.plot.density()\n",
    "app_count"
   ]
  },
  {
   "cell_type": "code",
   "execution_count": 9,
   "metadata": {},
   "outputs": [
    {
     "data": {
      "text/plain": [
       "T3       27037\n",
       "Other     2266\n",
       "T4        1542\n",
       "T6        1216\n",
       "T5        1173\n",
       "T19       1065\n",
       "Name: APPLICATION_TYPE, dtype: int64"
      ]
     },
     "execution_count": 9,
     "metadata": {},
     "output_type": "execute_result"
    }
   ],
   "source": [
    "#Bucket app type\n",
    "app_replace = list(app_count[app_count < 1000].index)\n",
    "\n",
    "for x in app_replace:\n",
    "    df.APPLICATION_TYPE = df.APPLICATION_TYPE.replace(x, \"Other\")\n",
    "\n",
    "df.APPLICATION_TYPE.value_counts()"
   ]
  },
  {
   "cell_type": "code",
   "execution_count": 10,
   "metadata": {},
   "outputs": [
    {
     "data": {
      "text/plain": [
       "Independent         18480\n",
       "CompanySponsored    15705\n",
       "Family/Parent          64\n",
       "National               33\n",
       "Regional               13\n",
       "Other                   4\n",
       "Name: AFFILIATION, dtype: int64"
      ]
     },
     "execution_count": 10,
     "metadata": {},
     "output_type": "execute_result"
    },
    {
     "data": {
      "image/png": "[encoded data removed]",
      "text/plain": [
       "<Figure size 432x288 with 1 Axes>"
      ]
     },
     "metadata": {
      "needs_background": "light"
     },
     "output_type": "display_data"
    }
   ],
   "source": [
    "affil_count.plot.density()\n",
    "affil_count"
   ]
  },
  {
   "cell_type": "code",
   "execution_count": 11,
   "metadata": {},
   "outputs": [
    {
     "data": {
      "text/plain": [
       "C1000    17326\n",
       "C2000     6074\n",
       "C1200     4837\n",
       "C3000     1918\n",
       "C2100     1883\n",
       "         ...  \n",
       "C4120        1\n",
       "C1245        1\n",
       "C4200        1\n",
       "C1732        1\n",
       "C2190        1\n",
       "Name: CLASSIFICATION, Length: 71, dtype: int64"
      ]
     },
     "execution_count": 11,
     "metadata": {},
     "output_type": "execute_result"
    },
    {
     "data": {
      "image/png": "[encoded data removed]",
      "text/plain": [
       "<Figure size 432x288 with 1 Axes>"
      ]
     },
     "metadata": {
      "needs_background": "light"
     },
     "output_type": "display_data"
    }
   ],
   "source": [
    "class_count.plot.density()\n",
    "class_count"
   ]
  },
  {
   "cell_type": "code",
   "execution_count": 12,
   "metadata": {},
   "outputs": [
    {
     "data": {
      "text/plain": [
       "C1000    17326\n",
       "C2000     6074\n",
       "C1200     4837\n",
       "Other     2261\n",
       "C3000     1918\n",
       "C2100     1883\n",
       "Name: CLASSIFICATION, dtype: int64"
      ]
     },
     "execution_count": 12,
     "metadata": {},
     "output_type": "execute_result"
    }
   ],
   "source": [
    "#Bucket classification\n",
    "class_replace = list(class_count[class_count < 1000].index)\n",
    "\n",
    "for x in class_replace:\n",
    "    df.CLASSIFICATION = df.CLASSIFICATION.replace(x, \"Other\")\n",
    "\n",
    "df.CLASSIFICATION.value_counts()"
   ]
  },
  {
   "cell_type": "code",
   "execution_count": 13,
   "metadata": {},
   "outputs": [
    {
     "data": {
      "text/plain": [
       "Preservation     28095\n",
       "ProductDev        5671\n",
       "CommunityServ      384\n",
       "Heathcare          146\n",
       "Other                3\n",
       "Name: USE_CASE, dtype: int64"
      ]
     },
     "execution_count": 13,
     "metadata": {},
     "output_type": "execute_result"
    },
    {
     "data": {
      "image/png": "[encoded data removed]",
      "text/plain": [
       "<Figure size 432x288 with 1 Axes>"
      ]
     },
     "metadata": {
      "needs_background": "light"
     },
     "output_type": "display_data"
    }
   ],
   "source": [
    "use_count.plot.density()\n",
    "use_count"
   ]
  },
  {
   "cell_type": "code",
   "execution_count": 14,
   "metadata": {},
   "outputs": [
    {
     "data": {
      "text/plain": [
       "Trust           23515\n",
       "Association     10255\n",
       "Co-operative      486\n",
       "Corporation        43\n",
       "Name: ORGANIZATION, dtype: int64"
      ]
     },
     "execution_count": 14,
     "metadata": {},
     "output_type": "execute_result"
    },
    {
     "data": {
      "image/png": "[encoded data removed]",
      "text/plain": [
       "<Figure size 432x288 with 1 Axes>"
      ]
     },
     "metadata": {
      "needs_background": "light"
     },
     "output_type": "display_data"
    }
   ],
   "source": [
    "org_count.plot.density()\n",
    "org_count"
   ]
  },
  {
   "cell_type": "code",
   "execution_count": 15,
   "metadata": {},
   "outputs": [
    {
     "data": {
      "text/plain": [
       "0                24388\n",
       "25000-99999       3747\n",
       "100000-499999     3374\n",
       "1M-5M              955\n",
       "1-9999             728\n",
       "10000-24999        543\n",
       "10M-50M            240\n",
       "5M-10M             185\n",
       "50M+               139\n",
       "Name: INCOME_AMT, dtype: int64"
      ]
     },
     "execution_count": 15,
     "metadata": {},
     "output_type": "execute_result"
    },
    {
     "data": {
      "image/png": "[encoded data removed]",
      "text/plain": [
       "<Figure size 432x288 with 1 Axes>"
      ]
     },
     "metadata": {
      "needs_background": "light"
     },
     "output_type": "display_data"
    }
   ],
   "source": [
    "inc_count.plot.density()\n",
    "inc_count"
   ]
  },
  {
   "cell_type": "code",
   "execution_count": 16,
   "metadata": {},
   "outputs": [],
   "source": [
    "#Encode columns\n",
    "copy_df = df.copy()\n",
    "le = LabelEncoder()\n",
    "\n",
    "copy_df.APPLICATION_TYPE = le.fit_transform(copy_df.APPLICATION_TYPE)\n",
    "copy_df.AFFILIATION = le.fit_transform(copy_df.AFFILIATION)\n",
    "copy_df.CLASSIFICATION = le.fit_transform(copy_df.CLASSIFICATION)\n",
    "copy_df.USE_CASE = le.fit_transform(copy_df.USE_CASE)\n",
    "copy_df.ORGANIZATION = le.fit_transform(copy_df.ORGANIZATION)\n",
    "copy_df.INCOME_AMT = le.fit_transform(copy_df.INCOME_AMT)"
   ]
  },
  {
   "cell_type": "code",
   "execution_count": 17,
   "metadata": {},
   "outputs": [
    {
     "data": {
      "text/html": [
       "<div>\n",
       "<style scoped>\n",
       "    .dataframe tbody tr th:only-of-type {\n",
       "        vertical-align: middle;\n",
       "    }\n",
       "\n",
       "    .dataframe tbody tr th {\n",
       "        vertical-align: top;\n",
       "    }\n",
       "\n",
       "    .dataframe thead th {\n",
       "        text-align: right;\n",
       "    }\n",
       "</style>\n",
       "<table border=\"1\" class=\"dataframe\">\n",
       "  <thead>\n",
       "    <tr style=\"text-align: right;\">\n",
       "      <th></th>\n",
       "      <th>APPLICATION_TYPE</th>\n",
       "      <th>AFFILIATION</th>\n",
       "      <th>CLASSIFICATION</th>\n",
       "      <th>USE_CASE</th>\n",
       "      <th>ORGANIZATION</th>\n",
       "      <th>STATUS</th>\n",
       "      <th>INCOME_AMT</th>\n",
       "      <th>SPECIAL_CONSIDERATIONS</th>\n",
       "      <th>ASK_AMT</th>\n",
       "      <th>IS_SUCCESSFUL</th>\n",
       "    </tr>\n",
       "    <tr>\n",
       "      <th>EIN</th>\n",
       "      <th></th>\n",
       "      <th></th>\n",
       "      <th></th>\n",
       "      <th></th>\n",
       "      <th></th>\n",
       "      <th></th>\n",
       "      <th></th>\n",
       "      <th></th>\n",
       "      <th></th>\n",
       "      <th></th>\n",
       "    </tr>\n",
       "  </thead>\n",
       "  <tbody>\n",
       "    <tr>\n",
       "      <th>10520599</th>\n",
       "      <td>0</td>\n",
       "      <td>2</td>\n",
       "      <td>0</td>\n",
       "      <td>4</td>\n",
       "      <td>0</td>\n",
       "      <td>1</td>\n",
       "      <td>0</td>\n",
       "      <td>0</td>\n",
       "      <td>5000</td>\n",
       "      <td>1</td>\n",
       "    </tr>\n",
       "    <tr>\n",
       "      <th>10531628</th>\n",
       "      <td>2</td>\n",
       "      <td>2</td>\n",
       "      <td>2</td>\n",
       "      <td>3</td>\n",
       "      <td>1</td>\n",
       "      <td>1</td>\n",
       "      <td>1</td>\n",
       "      <td>0</td>\n",
       "      <td>108590</td>\n",
       "      <td>1</td>\n",
       "    </tr>\n",
       "    <tr>\n",
       "      <th>10547893</th>\n",
       "      <td>4</td>\n",
       "      <td>0</td>\n",
       "      <td>4</td>\n",
       "      <td>4</td>\n",
       "      <td>0</td>\n",
       "      <td>1</td>\n",
       "      <td>0</td>\n",
       "      <td>0</td>\n",
       "      <td>5000</td>\n",
       "      <td>0</td>\n",
       "    </tr>\n",
       "    <tr>\n",
       "      <th>10553066</th>\n",
       "      <td>2</td>\n",
       "      <td>0</td>\n",
       "      <td>2</td>\n",
       "      <td>3</td>\n",
       "      <td>3</td>\n",
       "      <td>1</td>\n",
       "      <td>2</td>\n",
       "      <td>0</td>\n",
       "      <td>6692</td>\n",
       "      <td>1</td>\n",
       "    </tr>\n",
       "    <tr>\n",
       "      <th>10556103</th>\n",
       "      <td>2</td>\n",
       "      <td>2</td>\n",
       "      <td>0</td>\n",
       "      <td>1</td>\n",
       "      <td>3</td>\n",
       "      <td>1</td>\n",
       "      <td>3</td>\n",
       "      <td>0</td>\n",
       "      <td>142590</td>\n",
       "      <td>1</td>\n",
       "    </tr>\n",
       "  </tbody>\n",
       "</table>\n",
       "</div>"
      ],
      "text/plain": [
       "          APPLICATION_TYPE  AFFILIATION  CLASSIFICATION  USE_CASE  \\\n",
       "EIN                                                                 \n",
       "10520599                 0            2               0         4   \n",
       "10531628                 2            2               2         3   \n",
       "10547893                 4            0               4         4   \n",
       "10553066                 2            0               2         3   \n",
       "10556103                 2            2               0         1   \n",
       "\n",
       "          ORGANIZATION  STATUS  INCOME_AMT  SPECIAL_CONSIDERATIONS  ASK_AMT  \\\n",
       "EIN                                                                           \n",
       "10520599             0       1           0                       0     5000   \n",
       "10531628             1       1           1                       0   108590   \n",
       "10547893             0       1           0                       0     5000   \n",
       "10553066             3       1           2                       0     6692   \n",
       "10556103             3       1           3                       0   142590   \n",
       "\n",
       "          IS_SUCCESSFUL  \n",
       "EIN                      \n",
       "10520599              1  \n",
       "10531628              1  \n",
       "10547893              0  \n",
       "10553066              1  \n",
       "10556103              1  "
      ]
     },
     "execution_count": 17,
     "metadata": {},
     "output_type": "execute_result"
    }
   ],
   "source": [
    "copy_df.head()"
   ]
  },
  {
   "cell_type": "code",
   "execution_count": 18,
   "metadata": {},
   "outputs": [],
   "source": [
    "#Split target column\n",
    "y = copy_df.IS_SUCCESSFUL\n",
    "X = copy_df.drop(\"IS_SUCCESSFUL\", 1)"
   ]
  },
  {
   "cell_type": "code",
   "execution_count": 19,
   "metadata": {},
   "outputs": [],
   "source": [
    "#Split data into train and test\n",
    "X_train, X_test, y_train, y_test = train_test_split(X, y, random_state=42, stratify=y)"
   ]
  },
  {
   "cell_type": "code",
   "execution_count": 20,
   "metadata": {
    "scrolled": true
   },
   "outputs": [],
   "source": [
    "# Create a Standard Scaler instance\n",
    "scaler = StandardScaler()\n",
    "\n",
    "# Scale the data\n",
    "X_train_scaled = scaler.fit_transform(X_train)\n",
    "X_test_scaled = scaler.fit_transform(X_test)"
   ]
  },
  {
   "cell_type": "code",
   "execution_count": 21,
   "metadata": {},
   "outputs": [],
   "source": [
    "#Generate model\n",
    "model = tf.keras.models.Sequential()"
   ]
  },
  {
   "cell_type": "code",
   "execution_count": 22,
   "metadata": {},
   "outputs": [
    {
     "name": "stdout",
     "output_type": "stream",
     "text": [
      "WARNING:tensorflow:From C:\\Users\\skyla\\Anaconda3\\envs\\mlenv\\lib\\site-packages\\tensorflow\\python\\ops\\init_ops.py:1251: calling VarianceScaling.__init__ (from tensorflow.python.ops.init_ops) with dtype is deprecated and will be removed in a future version.\n",
      "Instructions for updating:\n",
      "Call initializer instance with the dtype argument instead of passing it to the constructor\n",
      "Model: \"sequential\"\n",
      "_________________________________________________________________\n",
      "Layer (type)                 Output Shape              Param #   \n",
      "=================================================================\n",
      "dense (Dense)                (None, 90)                900       \n",
      "_________________________________________________________________\n",
      "dense_1 (Dense)              (None, 5)                 455       \n",
      "_________________________________________________________________\n",
      "dense_2 (Dense)              (None, 1)                 6         \n",
      "=================================================================\n",
      "Total params: 1,361\n",
      "Trainable params: 1,361\n",
      "Non-trainable params: 0\n",
      "_________________________________________________________________\n"
     ]
    }
   ],
   "source": [
    "# Add the input and hidden layer\n",
    "number_inputs = 9\n",
    "number_hidden_nodes = 90\n",
    "\n",
    "model.add(tf.keras.layers.Dense(units=number_hidden_nodes, activation=\"relu\", input_dim=number_inputs))\n",
    "\n",
    "model.add(tf.keras.layers.Dense(units=5, activation =\"sigmoid\"))\n",
    "\n",
    "# Add the output layer that uses a probability activation function\n",
    "model.add(tf.keras.layers.Dense(units=1, activation=\"sigmoid\"))\n",
    "\n",
    "model.summary()"
   ]
  },
  {
   "cell_type": "code",
   "execution_count": 23,
   "metadata": {},
   "outputs": [
    {
     "name": "stdout",
     "output_type": "stream",
     "text": [
      "WARNING:tensorflow:From C:\\Users\\skyla\\Anaconda3\\envs\\mlenv\\lib\\site-packages\\tensorflow\\python\\ops\\nn_impl.py:180: add_dispatch_support.<locals>.wrapper (from tensorflow.python.ops.array_ops) is deprecated and will be removed in a future version.\n",
      "Instructions for updating:\n",
      "Use tf.where in 2.0, which has the same broadcast rule as np.where\n",
      "Epoch 1/100\n",
      "25724/25724 [==============================] - 0s 18us/sample - loss: 0.6030 - acc: 0.7028\n",
      "Epoch 2/100\n",
      "25724/25724 [==============================] - 0s 16us/sample - loss: 0.5785 - acc: 0.7242\n",
      "Epoch 3/100\n",
      "25724/25724 [==============================] - 0s 16us/sample - loss: 0.5746 - acc: 0.7255\n",
      "Epoch 4/100\n",
      "25724/25724 [==============================] - 0s 15us/sample - loss: 0.5727 - acc: 0.7266\n",
      "Epoch 5/100\n",
      "25724/25724 [==============================] - 0s 16us/sample - loss: 0.5718 - acc: 0.7276\n",
      "Epoch 6/100\n",
      "25724/25724 [==============================] - 0s 16us/sample - loss: 0.5711 - acc: 0.7276\n",
      "Epoch 7/100\n",
      "25724/25724 [==============================] - 0s 16us/sample - loss: 0.5701 - acc: 0.7276\n",
      "Epoch 8/100\n",
      "25724/25724 [==============================] - 0s 16us/sample - loss: 0.5698 - acc: 0.7282\n",
      "Epoch 9/100\n",
      "25724/25724 [==============================] - 0s 16us/sample - loss: 0.5689 - acc: 0.7295\n",
      "Epoch 10/100\n",
      "25724/25724 [==============================] - 0s 16us/sample - loss: 0.5680 - acc: 0.7299\n",
      "Epoch 11/100\n",
      "25724/25724 [==============================] - 0s 16us/sample - loss: 0.5674 - acc: 0.7301\n",
      "Epoch 12/100\n",
      "25724/25724 [==============================] - 0s 16us/sample - loss: 0.5659 - acc: 0.7305\n",
      "Epoch 13/100\n",
      "25724/25724 [==============================] - 0s 16us/sample - loss: 0.5651 - acc: 0.7301\n",
      "Epoch 14/100\n",
      "25724/25724 [==============================] - 0s 16us/sample - loss: 0.5644 - acc: 0.7307\n",
      "Epoch 15/100\n",
      "25724/25724 [==============================] - 0s 16us/sample - loss: 0.5634 - acc: 0.7306\n",
      "Epoch 16/100\n",
      "25724/25724 [==============================] - 0s 16us/sample - loss: 0.5624 - acc: 0.7304\n",
      "Epoch 17/100\n",
      "25724/25724 [==============================] - 0s 16us/sample - loss: 0.5617 - acc: 0.7309\n",
      "Epoch 18/100\n",
      "25724/25724 [==============================] - 0s 16us/sample - loss: 0.5610 - acc: 0.7306\n",
      "Epoch 19/100\n",
      "25724/25724 [==============================] - 0s 17us/sample - loss: 0.5605 - acc: 0.7312\n",
      "Epoch 20/100\n",
      "25724/25724 [==============================] - 0s 17us/sample - loss: 0.5600 - acc: 0.7304\n",
      "Epoch 21/100\n",
      "25724/25724 [==============================] - 0s 16us/sample - loss: 0.5595 - acc: 0.7313\n",
      "Epoch 22/100\n",
      "25724/25724 [==============================] - 0s 16us/sample - loss: 0.5588 - acc: 0.7307\n",
      "Epoch 23/100\n",
      "25724/25724 [==============================] - 0s 16us/sample - loss: 0.5584 - acc: 0.7304\n",
      "Epoch 24/100\n",
      "25724/25724 [==============================] - 0s 16us/sample - loss: 0.5580 - acc: 0.7315\n",
      "Epoch 25/100\n",
      "25724/25724 [==============================] - 0s 15us/sample - loss: 0.5575 - acc: 0.7308\n",
      "Epoch 26/100\n",
      "25724/25724 [==============================] - 0s 16us/sample - loss: 0.5570 - acc: 0.7315\n",
      "Epoch 27/100\n",
      "25724/25724 [==============================] - 0s 16us/sample - loss: 0.5568 - acc: 0.7316\n",
      "Epoch 28/100\n",
      "25724/25724 [==============================] - 0s 16us/sample - loss: 0.5567 - acc: 0.7306\n",
      "Epoch 29/100\n",
      "25724/25724 [==============================] - 0s 16us/sample - loss: 0.5565 - acc: 0.7320\n",
      "Epoch 30/100\n",
      "25724/25724 [==============================] - 0s 16us/sample - loss: 0.5558 - acc: 0.7315\n",
      "Epoch 31/100\n",
      "25724/25724 [==============================] - 0s 17us/sample - loss: 0.5557 - acc: 0.7321\n",
      "Epoch 32/100\n",
      "25724/25724 [==============================] - 0s 16us/sample - loss: 0.5555 - acc: 0.7320\n",
      "Epoch 33/100\n",
      "25724/25724 [==============================] - 0s 16us/sample - loss: 0.5555 - acc: 0.7321\n",
      "Epoch 34/100\n",
      "25724/25724 [==============================] - 0s 16us/sample - loss: 0.5552 - acc: 0.7334\n",
      "Epoch 35/100\n",
      "25724/25724 [==============================] - 0s 16us/sample - loss: 0.5552 - acc: 0.7325\n",
      "Epoch 36/100\n",
      "25724/25724 [==============================] - 0s 16us/sample - loss: 0.5549 - acc: 0.7329\n",
      "Epoch 37/100\n",
      "25724/25724 [==============================] - 0s 16us/sample - loss: 0.5544 - acc: 0.7338\n",
      "Epoch 38/100\n",
      "25724/25724 [==============================] - 0s 16us/sample - loss: 0.5546 - acc: 0.7324\n",
      "Epoch 39/100\n",
      "25724/25724 [==============================] - 0s 16us/sample - loss: 0.5543 - acc: 0.7329\n",
      "Epoch 40/100\n",
      "25724/25724 [==============================] - 0s 16us/sample - loss: 0.5540 - acc: 0.7325\n",
      "Epoch 41/100\n",
      "25724/25724 [==============================] - 0s 16us/sample - loss: 0.5540 - acc: 0.7327\n",
      "Epoch 42/100\n",
      "25724/25724 [==============================] - 0s 16us/sample - loss: 0.5538 - acc: 0.7328\n",
      "Epoch 43/100\n",
      "25724/25724 [==============================] - 0s 17us/sample - loss: 0.5536 - acc: 0.7325\n",
      "Epoch 44/100\n",
      "25724/25724 [==============================] - 0s 16us/sample - loss: 0.5535 - acc: 0.7317\n",
      "Epoch 45/100\n",
      "25724/25724 [==============================] - 0s 16us/sample - loss: 0.5536 - acc: 0.7326\n",
      "Epoch 46/100\n",
      "25724/25724 [==============================] - 0s 16us/sample - loss: 0.5534 - acc: 0.7327\n",
      "Epoch 47/100\n",
      "25724/25724 [==============================] - 0s 16us/sample - loss: 0.5531 - acc: 0.7332\n",
      "Epoch 48/100\n",
      "25724/25724 [==============================] - 0s 16us/sample - loss: 0.5533 - acc: 0.7329\n",
      "Epoch 49/100\n",
      "25724/25724 [==============================] - 0s 16us/sample - loss: 0.5530 - acc: 0.7326\n",
      "Epoch 50/100\n",
      "25724/25724 [==============================] - 0s 16us/sample - loss: 0.5527 - acc: 0.7336\n",
      "Epoch 51/100\n",
      "25724/25724 [==============================] - 0s 16us/sample - loss: 0.5525 - acc: 0.7341\n",
      "Epoch 52/100\n",
      "25724/25724 [==============================] - 0s 17us/sample - loss: 0.5524 - acc: 0.7334\n",
      "Epoch 53/100\n",
      "25724/25724 [==============================] - 0s 16us/sample - loss: 0.5526 - acc: 0.7339\n",
      "Epoch 54/100\n",
      "25724/25724 [==============================] - 0s 16us/sample - loss: 0.5523 - acc: 0.7336\n",
      "Epoch 55/100\n",
      "25724/25724 [==============================] - 0s 16us/sample - loss: 0.5521 - acc: 0.7333\n",
      "Epoch 56/100\n",
      "25724/25724 [==============================] - 0s 18us/sample - loss: 0.5517 - acc: 0.7336\n",
      "Epoch 57/100\n",
      "25724/25724 [==============================] - 0s 17us/sample - loss: 0.5523 - acc: 0.7336\n",
      "Epoch 58/100\n",
      "25724/25724 [==============================] - 0s 19us/sample - loss: 0.5521 - acc: 0.7324\n",
      "Epoch 59/100\n",
      "25724/25724 [==============================] - 0s 18us/sample - loss: 0.5516 - acc: 0.7331\n",
      "Epoch 60/100\n",
      "25724/25724 [==============================] - 0s 18us/sample - loss: 0.5517 - acc: 0.7338\n",
      "Epoch 61/100\n",
      "25724/25724 [==============================] - 0s 17us/sample - loss: 0.5513 - acc: 0.7340\n",
      "Epoch 62/100\n",
      "25724/25724 [==============================] - 0s 16us/sample - loss: 0.5515 - acc: 0.7342\n",
      "Epoch 63/100\n",
      "25724/25724 [==============================] - 0s 16us/sample - loss: 0.5513 - acc: 0.7346\n",
      "Epoch 64/100\n",
      "25724/25724 [==============================] - 0s 16us/sample - loss: 0.5514 - acc: 0.7335\n",
      "Epoch 65/100\n",
      "25724/25724 [==============================] - 0s 16us/sample - loss: 0.5513 - acc: 0.7343\n",
      "Epoch 66/100\n",
      "25724/25724 [==============================] - 0s 16us/sample - loss: 0.5510 - acc: 0.7341\n",
      "Epoch 67/100\n",
      "25724/25724 [==============================] - 0s 16us/sample - loss: 0.5509 - acc: 0.7338\n",
      "Epoch 68/100\n",
      "25724/25724 [==============================] - 0s 16us/sample - loss: 0.5509 - acc: 0.7345\n",
      "Epoch 69/100\n",
      "25724/25724 [==============================] - 0s 16us/sample - loss: 0.5506 - acc: 0.7340\n",
      "Epoch 70/100\n",
      "25724/25724 [==============================] - 0s 17us/sample - loss: 0.5510 - acc: 0.7343\n",
      "Epoch 71/100\n",
      "25724/25724 [==============================] - 0s 17us/sample - loss: 0.5504 - acc: 0.7340\n",
      "Epoch 72/100\n",
      "25724/25724 [==============================] - 0s 16us/sample - loss: 0.5508 - acc: 0.7337\n",
      "Epoch 73/100\n",
      "25724/25724 [==============================] - 0s 17us/sample - loss: 0.5504 - acc: 0.7333\n",
      "Epoch 74/100\n",
      "25724/25724 [==============================] - 0s 17us/sample - loss: 0.5501 - acc: 0.7336\n",
      "Epoch 75/100\n",
      "25724/25724 [==============================] - 0s 18us/sample - loss: 0.5503 - acc: 0.7333\n",
      "Epoch 76/100\n"
     ]
    },
    {
     "name": "stdout",
     "output_type": "stream",
     "text": [
      "25724/25724 [==============================] - 0s 17us/sample - loss: 0.5499 - acc: 0.7350\n",
      "Epoch 77/100\n",
      "25724/25724 [==============================] - 0s 17us/sample - loss: 0.5505 - acc: 0.7345\n",
      "Epoch 78/100\n",
      "25724/25724 [==============================] - 0s 17us/sample - loss: 0.5503 - acc: 0.7347\n",
      "Epoch 79/100\n",
      "25724/25724 [==============================] - 1s 23us/sample - loss: 0.5504 - acc: 0.7342\n",
      "Epoch 80/100\n",
      "25724/25724 [==============================] - 0s 18us/sample - loss: 0.5501 - acc: 0.7348\n",
      "Epoch 81/100\n",
      "25724/25724 [==============================] - 0s 17us/sample - loss: 0.5502 - acc: 0.7355\n",
      "Epoch 82/100\n",
      "25724/25724 [==============================] - 0s 17us/sample - loss: 0.5504 - acc: 0.7334\n",
      "Epoch 83/100\n",
      "25724/25724 [==============================] - 0s 17us/sample - loss: 0.5497 - acc: 0.7346\n",
      "Epoch 84/100\n",
      "25724/25724 [==============================] - 0s 17us/sample - loss: 0.5503 - acc: 0.7336\n",
      "Epoch 85/100\n",
      "25724/25724 [==============================] - 0s 16us/sample - loss: 0.5495 - acc: 0.7348\n",
      "Epoch 86/100\n",
      "25724/25724 [==============================] - 0s 16us/sample - loss: 0.5497 - acc: 0.7351\n",
      "Epoch 87/100\n",
      "25724/25724 [==============================] - 0s 16us/sample - loss: 0.5496 - acc: 0.7346\n",
      "Epoch 88/100\n",
      "25724/25724 [==============================] - 0s 17us/sample - loss: 0.5491 - acc: 0.7353\n",
      "Epoch 89/100\n",
      "25724/25724 [==============================] - 0s 16us/sample - loss: 0.5495 - acc: 0.7344\n",
      "Epoch 90/100\n",
      "25724/25724 [==============================] - 0s 17us/sample - loss: 0.5495 - acc: 0.7347\n",
      "Epoch 91/100\n",
      "25724/25724 [==============================] - 0s 17us/sample - loss: 0.5495 - acc: 0.7347\n",
      "Epoch 92/100\n",
      "25724/25724 [==============================] - 0s 16us/sample - loss: 0.5495 - acc: 0.7349\n",
      "Epoch 93/100\n",
      "25724/25724 [==============================] - 0s 17us/sample - loss: 0.5494 - acc: 0.7350\n",
      "Epoch 94/100\n",
      "25724/25724 [==============================] - 0s 17us/sample - loss: 0.5494 - acc: 0.7353\n",
      "Epoch 95/100\n",
      "25724/25724 [==============================] - 0s 19us/sample - loss: 0.5494 - acc: 0.7349\n",
      "Epoch 96/100\n",
      "25724/25724 [==============================] - 0s 18us/sample - loss: 0.5491 - acc: 0.7331\n",
      "Epoch 97/100\n",
      "25724/25724 [==============================] - 0s 17us/sample - loss: 0.5489 - acc: 0.7355\n",
      "Epoch 98/100\n",
      "25724/25724 [==============================] - 0s 17us/sample - loss: 0.5492 - acc: 0.7346\n",
      "Epoch 99/100\n",
      "25724/25724 [==============================] - 0s 17us/sample - loss: 0.5489 - acc: 0.7347\n",
      "Epoch 100/100\n",
      "25724/25724 [==============================] - 0s 16us/sample - loss: 0.5492 - acc: 0.7338\n"
     ]
    }
   ],
   "source": [
    "# Compile the Sequential model together and customize metrics\n",
    "model.compile(loss=\"binary_crossentropy\", optimizer=\"adam\", metrics=[\"accuracy\"])\n",
    "\n",
    "# Fit the model to the training data\n",
    "fit_model = model.fit(X_train_scaled, y_train, epochs=100, shuffle=True)"
   ]
  },
  {
   "cell_type": "code",
   "execution_count": 24,
   "metadata": {},
   "outputs": [
    {
     "name": "stdout",
     "output_type": "stream",
     "text": [
      "8575/8575 - 0s - loss: 0.5645 - acc: 0.7221\n"
     ]
    },
    {
     "data": {
      "text/plain": [
       "0.7220991"
      ]
     },
     "execution_count": 24,
     "metadata": {},
     "output_type": "execute_result"
    }
   ],
   "source": [
    "# Evaluate the model using the test data\n",
    "model_loss, model_accuracy = model.evaluate(X_test_scaled, y_test, verbose=2)\n",
    "Neural_network_accuracy = model_accuracy\n",
    "Neural_network_accuracy"
   ]
  },
  {
   "cell_type": "code",
   "execution_count": null,
   "metadata": {},
   "outputs": [],
   "source": []
  }
 ],
 "metadata": {
  "kernelspec": {
   "display_name": "mlenv",
   "language": "python",
   "name": "mlenv"
  },
  "language_info": {
   "codemirror_mode": {
    "name": "ipython",
    "version": 3
   },
   "file_extension": ".py",
   "mimetype": "text/x-python",
   "name": "python",
   "nbconvert_exporter": "python",
   "pygments_lexer": "ipython3",
   "version": "3.7.7"
  }
 },
 "nbformat": 4,
 "nbformat_minor": 4
}
